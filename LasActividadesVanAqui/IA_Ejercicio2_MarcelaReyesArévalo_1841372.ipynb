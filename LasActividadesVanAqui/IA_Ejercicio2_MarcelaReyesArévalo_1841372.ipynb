{
  "nbformat": 4,
  "nbformat_minor": 0,
  "metadata": {
    "colab": {
      "name": "IA_Ejercicio2_MarcelaReyesArévalo_1841372.ipynb",
      "provenance": [],
      "authorship_tag": "ABX9TyNKYWuK2JAvxz0UnfTK/iCU",
      "include_colab_link": true
    },
    "kernelspec": {
      "name": "python3",
      "display_name": "Python 3"
    },
    "language_info": {
      "name": "python"
    }
  },
  "cells": [
    {
      "cell_type": "markdown",
      "metadata": {
        "id": "view-in-github",
        "colab_type": "text"
      },
      "source": [
        "<a href=\"https://colab.research.google.com/github/marce-06/IAjueN4_IB_MRA_1841372/blob/main/LasActividadesVanAqui/IA_Ejercicio2_MarcelaReyesAr%C3%A9valo_1841372.ipynb\" target=\"_parent\"><img src=\"https://colab.research.google.com/assets/colab-badge.svg\" alt=\"Open In Colab\"/></a>"
      ]
    },
    {
      "cell_type": "markdown",
      "metadata": {
        "id": "F1cRukZvP80j"
      },
      "source": [
        "## **Actividad 3 - Ejercicios Introducción Python, 2da parte**\n",
        "\n",
        "---\n",
        "\n",
        "####**Marcela Reyes Arévalo**\n",
        "\n",
        "####**Jueves N4**"
      ]
    },
    {
      "cell_type": "markdown",
      "metadata": {
        "id": "MzGBgRAbQiPF"
      },
      "source": [
        "####**Ejercicio 1**"
      ]
    },
    {
      "cell_type": "code",
      "metadata": {
        "colab": {
          "base_uri": "https://localhost:8080/"
        },
        "id": "DLEV56hyP0Fc",
        "outputId": "e31aabe1-ce5e-4367-ddab-041dfd5e6101"
      },
      "source": [
        "#1.1 - creamos una lista vacía\n",
        "lista_comidas = []\n",
        "\n",
        "#preguntamos por 7 comidas preferidas y las guardamos en la lista creada\n",
        "print(\"Ingresa 7 comidas que te gusten: \")\n",
        "for i in range(7):\n",
        "  lista_comidas.append(input(\"Comida: \"))\n",
        "\n",
        "print() #para imprimir un espacio en blanco\n",
        "\n",
        "#imprimimos cada una de las comidas en la lista\n",
        "for i in lista_comidas:\n",
        "  print(i)\n",
        "\n",
        "print()\n",
        "\n",
        "#1.2 - imprimimos cada una de las comidas en la lista junto con una oración inicial\n",
        "for i in range(7):\n",
        "  print(\"Una de mis comidas favoritas es:\", lista_comidas[i])"
      ],
      "execution_count": 25,
      "outputs": [
        {
          "output_type": "stream",
          "name": "stdout",
          "text": [
            "Ingresa 7 comidas que te gusten: \n",
            "Comida: tacos\n",
            "Comida: pizza\n",
            "Comida: hamburguesa\n",
            "Comida: asado\n",
            "Comida: tamales\n",
            "Comida: enchiladas\n",
            "Comida: lasaña\n",
            "\n",
            "tacos\n",
            "pizza\n",
            "hamburguesa\n",
            "asado\n",
            "tamales\n",
            "enchiladas\n",
            "lasaña\n",
            "\n",
            "Una de mis comidas favoritas es: tacos\n",
            "Una de mis comidas favoritas es: pizza\n",
            "Una de mis comidas favoritas es: hamburguesa\n",
            "Una de mis comidas favoritas es: asado\n",
            "Una de mis comidas favoritas es: tamales\n",
            "Una de mis comidas favoritas es: enchiladas\n",
            "Una de mis comidas favoritas es: lasaña\n"
          ]
        }
      ]
    },
    {
      "cell_type": "markdown",
      "metadata": {
        "id": "4zxeuRy-ZSb1"
      },
      "source": [
        "####**Ejercicio 2**"
      ]
    },
    {
      "cell_type": "code",
      "metadata": {
        "colab": {
          "base_uri": "https://localhost:8080/"
        },
        "id": "aeQDKdAtZX0y",
        "outputId": "afadefd1-e801-4af7-e131-26501ec27c72"
      },
      "source": [
        "#imprimimos un mensaje inicial y las opciones para jugar\n",
        "print(\"¡Juguemos piedra, papel o tijeras! Elige tu jugada\")\n",
        "print(\"\\n1. Piedra\", \"\\n2. Papel\", \"\\n3. Tijeras\")\n",
        "print() #para imprimir un espacio en blanco\n",
        "#los jugadores eligen su jugada y se almacena en la variable correspondiente\n",
        "op_jugador1 = int(input(\"Jugador 1 ingresa el número de tu jugada: \"))\n",
        "op_jugador2 = int(input(\"Jugador 2 ingresa el número de tu jugada: \"))\n",
        "print()\n",
        "\n",
        "#se asigna a las variables la jugada elegida, se realiza esto con el fin de evitar que escriban de distintas maneras las opciones\n",
        "jugador1 = \"\"\n",
        "jugador2 = \"\"\n",
        "if op_jugador1 == 1:\n",
        "  jugador1 = \"piedra\"\n",
        "elif op_jugador1 == 2:\n",
        "  jugador1 = \"papel\"\n",
        "elif op_jugador1 == 3:\n",
        "  jugador1 = \"tijeras\"\n",
        "\n",
        "if op_jugador2 == 1:\n",
        "  jugador2 = \"piedra\"\n",
        "elif op_jugador2 == 2:\n",
        "  jugador2 = \"papel\"\n",
        "elif op_jugador2 == 3:\n",
        "  jugador2 = \"tijeras\"\n",
        "\n",
        "#se realiza la comparación entre las jugadas y se elige al ganador\n",
        "if jugador1 == \"piedra\" and jugador2 == \"papel\":\n",
        "  print(\"Jugador 2 gana, papel envuelve piedra\")\n",
        "elif jugador1 == \"piedra\" and jugador2 == \"tijeras\":\n",
        "  print(\"Jugador 1 gana, piedra rompe tijeras\")\n",
        "elif jugador1 == \"papel\" and jugador2 == \"piedra\":\n",
        "  print(\"Jugador 1 gana, papel envuelve piedra\")\n",
        "elif jugador1 == \"papel\" and jugador2 == \"tijeras\":\n",
        "  print(\"Jugador 2 gana, tijeras corta papel\")\n",
        "elif jugador1 == \"tijeras\" and jugador2 == \"piedra\":\n",
        "  print(\"Jugador 2 gana, piedra rompe tijeras\")\n",
        "elif jugador1 == \"tijeras\" and jugador2 == \"papel\":\n",
        "  print(\"Jugador 1 gana, tijeras corta papel\")\n",
        "elif jugador1 == jugador2:\n",
        "  print(\"¡Empate!\")"
      ],
      "execution_count": 23,
      "outputs": [
        {
          "output_type": "stream",
          "name": "stdout",
          "text": [
            "¡Juguemos piedra, papel o tijeras! Elige tu jugada\n",
            "\n",
            "1. Piedra \n",
            "2. Papel \n",
            "3. Tijeras\n",
            "\n",
            "Jugador 1 ingresa el número de tu jugada: 1\n",
            "Jugador 2 ingresa el número de tu jugada: 3\n",
            "\n",
            "Jugador 1 gana, piedra rompe tijeras\n"
          ]
        }
      ]
    },
    {
      "cell_type": "markdown",
      "metadata": {
        "id": "o8Ej9PXUjWbS"
      },
      "source": [
        "####**Ejercicio 3**"
      ]
    },
    {
      "cell_type": "code",
      "metadata": {
        "colab": {
          "base_uri": "https://localhost:8080/"
        },
        "id": "vlgCzro-mL7i",
        "outputId": "8bb31c11-c71d-4880-85e8-ec66549e8799"
      },
      "source": [
        "#creamos una lista que contenga los números que contiene el patrón\n",
        "lista_numeros = [1, 2, 3, 4, 5, 6]\n",
        "\n",
        "#creamos loops para imprimir cada línea del patrón, utilizando la lista creada \n",
        "for i in lista_numeros:\n",
        "  print(i, end=\" \") #imprime la línea 1 2 3 4 5 6\n",
        "print() #para imprimir espacio en blanco\n",
        "\n",
        "for i in lista_numeros[0:5]:\n",
        "  print(i, end=\" \") #imprime la línea 1 2 3 4 5\n",
        "print()\n",
        "\n",
        "for i in lista_numeros[0:4]:\n",
        "  print(i, end=\" \") #imprime la línea 1 2 3 4\n",
        "print()\n",
        "\n",
        "for i in lista_numeros[0:3]:\n",
        "  print(i, end=\" \") #imprime la línea 1 2 3\n",
        "print()\n",
        "\n",
        "for i in lista_numeros[0:2]:\n",
        "  print(i, end=\" \") #imprime la línea 1 2\n",
        "print()\n",
        "\n",
        "print(lista_numeros[0]) #imprime la línea 1\n",
        "\n",
        "for i in lista_numeros[0:2]:\n",
        "  print(i, end=\" \") #imprime la línea 1 2\n",
        "print()\n",
        "\n",
        "for i in lista_numeros[0:3]:\n",
        "  print(i, end=\" \") #imprime la línea 1 2 3\n",
        "print()\n",
        "\n",
        "for i in lista_numeros[0:4]:\n",
        "  print(i, end=\" \") #imprime la línea 1 2 3 4\n",
        "print()\n",
        "\n",
        "for i in lista_numeros[0:5]:\n",
        "  print(i, end=\" \") #imprime la línea 1 2 3 4 5\n",
        "print()\n",
        "\n",
        "for i in lista_numeros:\n",
        "  print(i, end=\" \") #imprime la línea 1 2 3 4 5 6\n",
        "print()"
      ],
      "execution_count": 34,
      "outputs": [
        {
          "output_type": "stream",
          "name": "stdout",
          "text": [
            "1 2 3 4 5 6 \n",
            "1 2 3 4 5 \n",
            "1 2 3 4 \n",
            "1 2 3 \n",
            "1 2 \n",
            "1\n",
            "1 2 \n",
            "1 2 3 \n",
            "1 2 3 4 \n",
            "1 2 3 4 5 \n",
            "1 2 3 4 5 6 \n"
          ]
        }
      ]
    }
  ]
}