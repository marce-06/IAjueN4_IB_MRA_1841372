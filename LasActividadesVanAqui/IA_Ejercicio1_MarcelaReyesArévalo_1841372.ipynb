{
  "nbformat": 4,
  "nbformat_minor": 0,
  "metadata": {
    "colab": {
      "name": "IA_Ejercicio1_MarcelaReyesArévalo_1841372.ipynb",
      "provenance": [],
      "authorship_tag": "ABX9TyPyHXDnfBkFLFq8C8sRFDsN",
      "include_colab_link": true
    },
    "kernelspec": {
      "name": "python3",
      "display_name": "Python 3"
    },
    "language_info": {
      "name": "python"
    }
  },
  "cells": [
    {
      "cell_type": "markdown",
      "metadata": {
        "id": "view-in-github",
        "colab_type": "text"
      },
      "source": [
        "<a href=\"https://colab.research.google.com/github/marce-06/IAjueN4_IB_MRA_1841372/blob/main/LasActividadesVanAqui/IA_Ejercicio1_MarcelaReyesAr%C3%A9valo_1841372.ipynb\" target=\"_parent\"><img src=\"https://colab.research.google.com/assets/colab-badge.svg\" alt=\"Open In Colab\"/></a>"
      ]
    },
    {
      "cell_type": "markdown",
      "metadata": {
        "id": "yBtc4iiCENxx"
      },
      "source": [
        "## Actividad 2- Ejercicios Introducción Python\n",
        "---\n",
        "#### Marcela Reyes Arévalo 1841372 \n",
        "#### Jueves N4"
      ]
    },
    {
      "cell_type": "markdown",
      "metadata": {
        "id": "ZM91c0JFJlJL"
      },
      "source": [
        "####**Ejercicio 1**"
      ]
    },
    {
      "cell_type": "code",
      "metadata": {
        "colab": {
          "base_uri": "https://localhost:8080/"
        },
        "id": "BZ0lmXA3JgW5",
        "outputId": "635a23cf-d535-4e16-f756-ec5a157d080d"
      },
      "source": [
        "#preguntamos por los datos necesarios, se reciben en forma de cadena de caracteres, y se almacenan en las variables correspondientes\n",
        "nombre = input(\"¿Cuál es tu nombre? \")\n",
        "edad = input(\"¿Cuántos años tienes? \")\n",
        "frasefav = input(\"¿Cuál es tu frase favorita? \")\n",
        "autor = input(\"¿Quién dijo esa frase? \")\n",
        "\n",
        "#se declara la variable \"mensaje\" donde se concatenan las respuestas con texto adicional para formar una frase\n",
        "mensaje = \"¡Hola \"+nombre+\"!, tu edad es \"+edad+\" años, y tu frase favorita es \"+frasefav+\", que la dijo \"+autor\n",
        "\n",
        "#se imprime la variable \"mensaje\"\n",
        "print() #para imprimir un espacio en blanco\n",
        "print(mensaje)"
      ],
      "execution_count": 9,
      "outputs": [
        {
          "output_type": "stream",
          "name": "stdout",
          "text": [
            "¿Cuál es tu nombre? Marcela\n",
            "¿Cuántos años tienes? 20\n",
            "¿Cuál es tu frase favorita? Life is a party and I'm the piñata\n",
            "¿Quién dijo esa frase? Charles Boyle\n",
            "\n",
            "¡Hola Marcela!, tu edad es 20 años, y tu frase favorita es Life is a party and I'm the piñata, que la dijo Charles Boyle\n"
          ]
        }
      ]
    },
    {
      "cell_type": "markdown",
      "metadata": {
        "id": "NoaUspVuMqpX"
      },
      "source": [
        "####**Ejercicio 2**"
      ]
    },
    {
      "cell_type": "code",
      "metadata": {
        "colab": {
          "base_uri": "https://localhost:8080/"
        },
        "id": "YLKxSD68MqST",
        "outputId": "2d8d13f3-24f5-44b3-92cb-7fa36f6da8df"
      },
      "source": [
        "#preguntamos por los valores enteros y luego por los valores flotantes, y se almacenan en las variables correspondientes\n",
        "#se especifica qué tipo de dato se va a recibir en cada variable\n",
        "numero_int_1 = int(input(\"Escribe un número entero: \"))\n",
        "numero_int_2 = int(input(\"Escribe otro número entero: \"))\n",
        "numero_float_1 = float(input(\"Ahora, escribe un número flotante: \"))\n",
        "numero_float_2 = float(input(\"Escribe otro número flotante: \"))\n",
        "\n",
        "#realizamos las operaciones de suma, resta, multiplicación y división con cada par de números\n",
        "suma_int = numero_int_1 + numero_int_2\n",
        "suma_float = numero_float_1 + numero_float_2\n",
        "\n",
        "resta_int = numero_int_1 - numero_int_2\n",
        "resta_float = numero_float_1 - numero_float_2\n",
        "\n",
        "mult_int = numero_int_1 * numero_int_2\n",
        "mult_float = numero_float_1 * numero_float_2\n",
        "\n",
        "div_int = numero_int_1 / numero_int_2\n",
        "div_float = numero_float_1 / numero_float_2\n",
        "\n",
        "#imprimimos los resultados\n",
        "print() #para imprimir un espacio en blanco\n",
        "print(\"La suma de los números enteros es \", suma_int)\n",
        "print(\"La resta de los números enteros es \", resta_int)\n",
        "print(\"La multiplicación de los números enteros es \", mult_int)\n",
        "print(\"La división de los números enteros es \", div_int)\n",
        "print() #para imprimir un espacio en blanco\n",
        "print(\"La suma de los números flotantes es \", suma_float)\n",
        "print(\"La resta de los números flotantes es \", resta_float)\n",
        "print(\"La multiplicación de los números flotantes es \", mult_float)\n",
        "print(\"La división de los números flotantes es \", div_float)"
      ],
      "execution_count": 11,
      "outputs": [
        {
          "output_type": "stream",
          "name": "stdout",
          "text": [
            "Escribe un número entero: 23\n",
            "Escribe otro número entero: 67\n",
            "Ahora, escribe un número flotante: 14.6\n",
            "Escribe otro número flotante: 25.4\n",
            "\n",
            "La suma de los números enteros es  90\n",
            "La resta de los números enteros es  -44\n",
            "La multiplicación de los números enteros es  1541\n",
            "La división de los números enteros es  0.34328358208955223\n",
            "\n",
            "La suma de los números flotantes es  40.0\n",
            "La resta de los números flotantes es  -10.799999999999999\n",
            "La multiplicación de los números flotantes es  370.84\n",
            "La división de los números flotantes es  0.5748031496062992\n"
          ]
        }
      ]
    },
    {
      "cell_type": "markdown",
      "metadata": {
        "id": "YQPZAsdqWH-4"
      },
      "source": [
        "####**Ejercicio 3**"
      ]
    },
    {
      "cell_type": "code",
      "metadata": {
        "colab": {
          "base_uri": "https://localhost:8080/"
        },
        "id": "FKUVjBevWO14",
        "outputId": "3c010d3e-042a-4dfe-8788-81b8bcfde329"
      },
      "source": [
        "#preguntamos por dos valores y se almacenan en las variables correspondientes\n",
        "#se especifica qué tipo de dato se va a recibir en cada variable\n",
        "num_1 = int(input(\"Ingresa un número: \"))\n",
        "num_2 = int(input(\"Ingresa otro número: \"))\n",
        "\n",
        "#expresiones lógicas a evaluar\n",
        "exp_and_1 = (num_1 > 10) and (num_2 < 20)\n",
        "exp_and_2 = (num_1 <= 50) and (num_2 >= 30)\n",
        "exp_or_1 = (num_1 < 100) or (num_2 > 150)\n",
        "exp_or_2 = (num_1 >= 5) or (num_2 <= 15)\n",
        "exp_not_1 = not (num_1 == num_2)\n",
        "exp_not_2 = not (num_1 != num_2)\n",
        "\n",
        "#imprimimos las variables con los resultados de las expresiones\n",
        "print() #para imprimir un espacio en blanco\n",
        "print(exp_and_1, exp_and_2, exp_or_1, exp_or_2, exp_not_1, exp_not_2)"
      ],
      "execution_count": 8,
      "outputs": [
        {
          "output_type": "stream",
          "name": "stdout",
          "text": [
            "Ingresa un número: 14\n",
            "Ingresa otro número: 125\n",
            "\n",
            "False True True True True False\n"
          ]
        }
      ]
    }
  ]
}