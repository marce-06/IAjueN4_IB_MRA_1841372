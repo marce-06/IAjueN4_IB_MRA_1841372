{
  "nbformat": 4,
  "nbformat_minor": 0,
  "metadata": {
    "colab": {
      "name": "IA-ExMedCurso-MarcelaReyesArévalo-1841372.ipynb",
      "provenance": [],
      "authorship_tag": "ABX9TyOGaCw3EMqFmbseePgEddii",
      "include_colab_link": true
    },
    "kernelspec": {
      "name": "python3",
      "display_name": "Python 3"
    },
    "language_info": {
      "name": "python"
    }
  },
  "cells": [
    {
      "cell_type": "markdown",
      "metadata": {
        "id": "view-in-github",
        "colab_type": "text"
      },
      "source": [
        "<a href=\"https://colab.research.google.com/github/marce-06/IAjueN4_IB_MRA_1841372/blob/main/Examen-Medio-Curso-IA/IA_ExMedCurso_MarcelaReyesAr%C3%A9valo_1841372.ipynb\" target=\"_parent\"><img src=\"https://colab.research.google.com/assets/colab-badge.svg\" alt=\"Open In Colab\"/></a>"
      ]
    },
    {
      "cell_type": "markdown",
      "metadata": {
        "id": "NDRJx_A2HDFl"
      },
      "source": [
        ""
      ]
    },
    {
      "cell_type": "markdown",
      "metadata": {
        "id": "F1cRukZvP80j"
      },
      "source": [
        "## **Examen de medio curso - Inteligencia Artificial**\n",
        "\n",
        "---\n",
        "\n",
        "####**Marcela Reyes Arévalo**\n",
        "\n",
        "####**Jueves N4**"
      ]
    },
    {
      "cell_type": "markdown",
      "metadata": {
        "id": "MzGBgRAbQiPF"
      },
      "source": [
        "####**Ejercicio 1**"
      ]
    },
    {
      "cell_type": "code",
      "metadata": {
        "colab": {
          "base_uri": "https://localhost:8080/"
        },
        "id": "dlJC0D4EKD19",
        "outputId": "9d285aa8-bb04-4d3e-c14a-4bdaa8ad2955"
      },
      "source": [
        "#programa que elimina los números pares de la lista\n",
        "ex_lista = [10, 15, 17, 21, 22, 34, 37, 40, 45, 52, 66, 68, 81, 84, 91, 94, 102, 105, 109]\n",
        "n_ex_lista = []\n",
        "\n",
        "for i in range(19):\n",
        "  num = int(ex_lista[i])\n",
        "  if num % 2 != 0:\n",
        "    n_ex_lista.append(num)\n",
        "  \n",
        "print(n_ex_lista)"
      ],
      "execution_count": 25,
      "outputs": [
        {
          "output_type": "stream",
          "name": "stdout",
          "text": [
            "[15, 17, 21, 37, 45, 81, 91, 105, 109]\n"
          ]
        }
      ]
    },
    {
      "cell_type": "markdown",
      "metadata": {
        "id": "modKjvBwNcse"
      },
      "source": [
        "####**Ejercicio 2**"
      ]
    },
    {
      "cell_type": "code",
      "metadata": {
        "colab": {
          "base_uri": "https://localhost:8080/"
        },
        "id": "_eacS9yTNe3K",
        "outputId": "372f29b4-89c2-4289-9624-7ffc8d1bcbbd"
      },
      "source": [
        "#programa que pregunta e imprime las 5 películas favoritas del usuario\n",
        "peliculas_fav = []\n",
        "\n",
        "print(\"¿Cuál es tu top 5 de películas favoritas? Menciónalas de la más a la menos favorita\")\n",
        "for i in range(5):\n",
        "  peliculas_fav.append(input(\"Película: \"))\n",
        "\n",
        "print()\n",
        "\n",
        "for i in range(5):\n",
        "  print(\"La película\", peliculas_fav[i], \"está en la posición\", i+1, \"de mi top 5\")\n"
      ],
      "execution_count": 28,
      "outputs": [
        {
          "output_type": "stream",
          "name": "stdout",
          "text": [
            "¿Cuál es tu top 5 de películas favoritas? Menciónalas de la más a la menos favorita\n",
            "Película: La princesa y el sapo\n",
            "Película: Rapunzel\n",
            "Película: Valiente\n",
            "Película: Hércules\n",
            "Película: Aladdin\n",
            "\n",
            "La película La princesa y el sapo está en la posición 1 de mi top 5\n",
            "La película Rapunzel está en la posición 2 de mi top 5\n",
            "La película Valiente está en la posición 3 de mi top 5\n",
            "La película Hércules está en la posición 4 de mi top 5\n",
            "La película Aladdin está en la posición 5 de mi top 5\n"
          ]
        }
      ]
    }
  ]
}